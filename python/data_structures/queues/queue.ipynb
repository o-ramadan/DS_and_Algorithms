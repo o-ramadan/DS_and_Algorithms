{
  "nbformat": 4,
  "nbformat_minor": 0,
  "metadata": {
    "colab": {
      "name": "queue.ipynb",
      "provenance": [],
      "authorship_tag": "ABX9TyNVpZQvZwiminOganZAJVLn"
    },
    "kernelspec": {
      "name": "python3",
      "display_name": "Python 3"
    },
    "language_info": {
      "name": "python"
    }
  },
  "cells": [
    {
      "cell_type": "code",
      "execution_count": 20,
      "metadata": {
        "id": "4Mu_5ftDfb7s"
      },
      "outputs": [],
      "source": [
        "#Queue implementation using linked list\n",
        "\n",
        "class node():\n",
        "  def __init__(self, data):\n",
        "    self.data = data\n",
        "    self.next = None\n",
        "\n",
        "class queue():\n",
        "\n",
        "  def __init__(self):\n",
        "    self.head = self.tail =  None\n",
        "\n",
        "  def is_empty(self):\n",
        "    return self.head == None\n",
        "\n",
        "  def enqueue(self, item):\n",
        "    new_item = node(item)\n",
        "\n",
        "    if self.is_empty():\n",
        "      self.head = self.tail = new_item\n",
        "\n",
        "    else:\n",
        "      self.tail.next = new_item\n",
        "      self.tail = new_item\n",
        "\n",
        "  def dequeue(self):\n",
        "\n",
        "    removed_item = self.head.data\n",
        "\n",
        "    if self.is_empty():\n",
        "      raise Exception(\"Queue is empty\")\n",
        "\n",
        "    # One element queue\n",
        "    elif self.head == self.tail:\n",
        "      self.head = self.tail = None\n",
        "\n",
        "    else:\n",
        "      self.head = self.head.next\n",
        "      \n",
        "    return removed_item\n",
        "\n",
        "  def get_front(self):\n",
        "    if self.is_empty():\n",
        "      raise Exception(\"Queue is empty\")    \n",
        "    else:\n",
        "      return self.head.data\n",
        "\n",
        "  def get_rear(self):\n",
        "    if self.is_empty():\n",
        "      raise Exception(\"Queue is empty\")    \n",
        "    else:\n",
        "      return self.tail.data"
      ]
    }
  ]
}
