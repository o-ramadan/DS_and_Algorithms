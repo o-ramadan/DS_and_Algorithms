{
  "nbformat": 4,
  "nbformat_minor": 0,
  "metadata": {
    "colab": {
      "name": "priority_queue.ipynb",
      "provenance": []
    },
    "kernelspec": {
      "name": "python3",
      "display_name": "Python 3"
    },
    "language_info": {
      "name": "python"
    }
  },
  "cells": [
    {
      "cell_type": "code",
      "execution_count": 30,
      "metadata": {
        "id": "zisk__GlX68r"
      },
      "outputs": [],
      "source": [
        "class max_heap():\n",
        "\n",
        "  def __init__(self, arr):\n",
        "    self.heap_arr = arr\n",
        "    self.heap_size = len(arr)\n",
        "    self.build_max_heap()\n",
        "\n",
        "  def left(self, i):\n",
        "    return 2*i + 1\n",
        "\n",
        "  def right(self, i):\n",
        "    return 2*i + 2\n",
        "\n",
        "  def parent(self, i):\n",
        "    return (i-1)//2\n",
        "\n",
        "  def max_heapify(self, i):\n",
        "    left = self.left(i)\n",
        "    right = self.right(i)\n",
        "\n",
        "    if left < self.heap_size and self.heap_arr[left] >  self.heap_arr[i]:\n",
        "      largest = left\n",
        "    else:\n",
        "      largest = i\n",
        "\n",
        "    if right < self.heap_size and self.heap_arr[right] > self.heap_arr[largest]:\n",
        "      largest = right\n",
        "    \n",
        "    if largest != i:\n",
        "      self.heap_arr[i], self.heap_arr[largest] = self.heap_arr[largest], self.heap_arr[i]\n",
        "      self.max_heapify(largest)\n",
        "\n",
        "\n",
        "  def build_max_heap(self):\n",
        "    #Loop from first non-leaf element (index = len(heap_arr)//2 - 1) down to root (index = 0)\n",
        "    for i in range(self.heap_size//2 - 1, -1, -1):\n",
        "      self.max_heapify(i)"
      ]
    },
    {
      "cell_type": "code",
      "source": [
        "class priority_queue(max_heap):\n",
        "\n",
        "  def heap_maximum(self):\n",
        "    return self.heap_arr[0]\n",
        "\n",
        "  #Remove max from heap and return it\n",
        "  def heap_extract_max(self):\n",
        "\n",
        "    if self.heap_size < 1:\n",
        "      raise IndexError(\"Queue is empty\")\n",
        "\n",
        "    max = self.heap_maximum()\n",
        "    #Move last element to first position, and max_heapify it\n",
        "    self.heap_arr[0] = self.heap_arr[self.heap_size - 1]\n",
        "    self.heap_size -= 1\n",
        "    self.max_heapify(0)\n",
        "\n",
        "    return max\n",
        "\n",
        "  #Increase node i's key to new key if its higher than it\n",
        "  def heap_increase_key(self, i, key):\n",
        "    if key < self.heap_arr[i]:\n",
        "      print(\"New key is smaller than current key\")\n",
        "      return\n",
        "\n",
        "    self.heap_arr[i] = key\n",
        "\n",
        "    #Keep moving i upwards until it is no longer larger than its parent\n",
        "    while i > 0 and self.heap_arr[self.parent(i)] < self.heap_arr[i]:\n",
        "      self.heap_arr[self.parent(i)], self.heap_arr[i] = self.heap_arr[i], self.heap_arr[self.parent(i)], \n",
        "      i = self.parent(i)\n",
        "\n",
        "\n",
        "  def max_heap_insert(self, key):\n",
        "    self.heap_size += 1\n",
        "\n",
        "    #Add key at bottom of tree (last leaf) then bubble it up until it satisfies max heap property\n",
        "    self.heap_arr.append(key)\n",
        "\n",
        "    i = self.heap_size - 1\n",
        "    while i > 0:\n",
        "      parent = self.parent(i)\n",
        "      if key <= self.heap_arr[parent]:\n",
        "        break\n",
        "      self.heap_arr[i] = self.heap_arr[parent]\n",
        "\n",
        "      i = self.parent(i)\n",
        "    \n",
        "    self.heap_arr[i] = key"
      ],
      "metadata": {
        "id": "qD-xvJu1YfXN"
      },
      "execution_count": 31,
      "outputs": []
    }
  ]
}