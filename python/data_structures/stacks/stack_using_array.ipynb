{
  "nbformat": 4,
  "nbformat_minor": 0,
  "metadata": {
    "colab": {
      "name": "stack_using_array.ipynb",
      "provenance": [],
      "collapsed_sections": []
    },
    "kernelspec": {
      "name": "python3",
      "display_name": "Python 3"
    },
    "language_info": {
      "name": "python"
    }
  },
  "cells": [
    {
      "cell_type": "code",
      "source": [
        "#Stack implementation using arrays (python lists)\n",
        "class stack():\n",
        "  def __init__(self):\n",
        "    self.size = 0\n",
        "    self.items = []\n",
        "\n",
        "  def push(self, item):\n",
        "    self.items.append(item)\n",
        "    self.size += 1\n",
        "\n",
        "  def pop(self):\n",
        "    if self.size > 0:\n",
        "      self.size -= 1\n",
        "      return self.items.pop()\n",
        "    else:\n",
        "      raise IndexError(\"Stack is already empty\")\n",
        "\n",
        "  def top(self):\n",
        "    if self.size > 0:\n",
        "      return self.items[self.size - 1]\n",
        "    else:\n",
        "      raise IndexError(\"Stack is empty\")"
      ],
      "metadata": {
        "id": "8MMNQc7fmQat"
      },
      "execution_count": 11,
      "outputs": []
    },
    {
      "cell_type": "code",
      "source": [
        ""
      ],
      "metadata": {
        "id": "rDqrvpUZoU9q"
      },
      "execution_count": 19,
      "outputs": []
    }
  ]
}
