{
  "nbformat": 4,
  "nbformat_minor": 0,
  "metadata": {
    "colab": {
      "name": "heap_sort.ipynb",
      "provenance": []
    },
    "kernelspec": {
      "name": "python3",
      "display_name": "Python 3"
    },
    "language_info": {
      "name": "python"
    }
  },
  "cells": [
    {
      "cell_type": "code",
      "execution_count": null,
      "metadata": {
        "id": "Ssj-ezkFXAlv"
      },
      "outputs": [],
      "source": [
        "class max_heap():\n",
        "\n",
        "  def __init__(self, arr):\n",
        "    self.heap_arr = arr\n",
        "    self.heap_size = len(arr)\n",
        "    self.build_max_heap()\n",
        "\n",
        "  def left(self, i):\n",
        "    return 2*i + 1\n",
        "\n",
        "  def right(self, i):\n",
        "    return 2*i + 2\n",
        "\n",
        "  def parent(self, i):\n",
        "    return (i-1)//2\n",
        "\n",
        "  def max_heapify(self, i):\n",
        "    left = self.left(i)\n",
        "    right = self.right(i)\n",
        "\n",
        "    if left < self.heap_size and self.heap_arr[left] >  self.heap_arr[i]:\n",
        "      largest = left\n",
        "    else:\n",
        "      largest = i\n",
        "\n",
        "    if right < self.heap_size and self.heap_arr[right] > self.heap_arr[largest]:\n",
        "      largest = right\n",
        "    \n",
        "    if largest != i:\n",
        "      self.heap_arr[i], self.heap_arr[largest] = self.heap_arr[largest], self.heap_arr[i]\n",
        "      self.max_heapify(largest)\n",
        "\n",
        "\n",
        "  def build_max_heap(self):\n",
        "    #Loop from first non-leaf element (index = len(heap_arr)//2 - 1) down to root (index = 0)\n",
        "    for i in range(self.heap_size//2 - 1, -1, -1):\n",
        "      self.max_heapify(i)"
      ]
    },
    {
      "cell_type": "code",
      "source": [
        "def heap_sort(arr):\n",
        "  heap = max_heap(arr)\n",
        "  heap.build_max_heap()\n",
        "  \n",
        "  for i in range(heap.heap_size - 1, 0, -1):\n",
        "    heap.heap_arr[i], heap.heap_arr[0] = heap.heap_arr[0], heap.heap_arr[i]\n",
        "    heap.heap_size -= 1\n",
        "    heap.max_heapify(0)\n",
        "\n",
        "  arr = heap.heap_arr"
      ],
      "metadata": {
        "id": "8zz5As_TXDaj"
      },
      "execution_count": null,
      "outputs": []
    }
  ]
}