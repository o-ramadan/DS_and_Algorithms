{
  "nbformat": 4,
  "nbformat_minor": 0,
  "metadata": {
    "colab": {
      "name": "merge_sort.ipynb",
      "provenance": []
    },
    "kernelspec": {
      "name": "python3",
      "display_name": "Python 3"
    },
    "language_info": {
      "name": "python"
    }
  },
  "cells": [
    {
      "cell_type": "code",
      "execution_count": 16,
      "metadata": {
        "id": "N2snPLDSJo5l"
      },
      "outputs": [],
      "source": [
        "def merge_sort(arr):\n",
        "\n",
        "  if len(arr) > 1:\n",
        "\n",
        "    #Divide list into 2 subarraus: left and right\n",
        "    middle =  len(arr) // 2\n",
        "    left = arr[:middle]\n",
        "    right = arr[middle:]\n",
        "\n",
        "    #Sort subarrays\n",
        "    merge_sort(left)\n",
        "    merge_sort(right)\n",
        "\n",
        "    left_arr_index = right_arr_index = 0\n",
        "\n",
        "    #Merge both subarrays\n",
        "    merged_arr_index = 0\n",
        "    while left_arr_index < len(left) and right_arr_index < len(right):\n",
        "      if left[left_arr_index] < right[right_arr_index]:\n",
        "        arr[merged_arr_index] = left[left_arr_index]\n",
        "        left_arr_index += 1\n",
        "\n",
        "      else:\n",
        "        arr[merged_arr_index] = right[right_arr_index]\n",
        "        right_arr_index += 1\n",
        "\n",
        "      merged_arr_index += 1\n",
        "\n",
        "    #Empty the rest of the array that wasn't already emptied\n",
        "    while right_arr_index < len(right):\n",
        "      arr[merged_arr_index] = right[right_arr_index]\n",
        "      right_arr_index +=1\n",
        "      merged_arr_index += 1\n",
        "    \n",
        "    while left_arr_index < len(left):\n",
        "      arr[merged_arr_index] = left[left_arr_index]\n",
        "      left_arr_index += 1\n",
        "      merged_arr_index += 1\n"
      ]
    }
  ]
}