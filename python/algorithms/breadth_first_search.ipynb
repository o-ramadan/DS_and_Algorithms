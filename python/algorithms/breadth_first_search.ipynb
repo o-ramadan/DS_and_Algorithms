{
  "nbformat": 4,
  "nbformat_minor": 0,
  "metadata": {
    "colab": {
      "name": "breadth_first_search.ipynb",
      "provenance": []
    },
    "kernelspec": {
      "name": "python3",
      "display_name": "Python 3"
    },
    "language_info": {
      "name": "python"
    }
  },
  "cells": [
    {
      "cell_type": "code",
      "execution_count": 6,
      "metadata": {
        "id": "34iqHdZerbgE"
      },
      "outputs": [],
      "source": [
        "#graph is represented with an adjacency list (dictionary in python)\n",
        "def BFS(graph, v):\n",
        "\n",
        "  queue = []\n",
        "\n",
        "  #Create dictionary for vertices and mark all of them as not visited\n",
        "  visited = {x:False for x in graph.keys()}\n",
        "\n",
        "  #Mark starting node as visited\n",
        "  visited[v] = True\n",
        "  queue.append(v)\n",
        "\n",
        "  while queue:\n",
        "\n",
        "    cur_vertex = queue.pop(0)\n",
        "    print(cur_vertex)\n",
        "\n",
        "    for neighbor in graph[cur_vertex]:\n",
        "      if visited[neighbor] == False:\n",
        "        visited[neighbor] = True\n",
        "        queue.append(neighbor)"
      ]
    }
  ]
}