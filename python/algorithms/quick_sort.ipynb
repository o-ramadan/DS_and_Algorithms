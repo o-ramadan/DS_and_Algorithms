{
  "nbformat": 4,
  "nbformat_minor": 0,
  "metadata": {
    "colab": {
      "name": "quick_sort.ipynb",
      "provenance": []
    },
    "kernelspec": {
      "name": "python3",
      "display_name": "Python 3"
    },
    "language_info": {
      "name": "python"
    }
  },
  "cells": [
    {
      "cell_type": "code",
      "execution_count": 5,
      "metadata": {
        "id": "4ICBN_STob3c"
      },
      "outputs": [],
      "source": [
        "def swap(arr, pos1, pos2):\n",
        "  temp = arr[pos1]\n",
        "  arr[pos1] = arr [pos2]\n",
        "  arr[pos2] = temp\n",
        "\n",
        "def partition(arr, start, end):\n",
        "\n",
        "  #Pivot chosen to be last element in array\n",
        "  pivot = arr[end]\n",
        "\n",
        "#At the end of each iteration:\n",
        "  # indices 0->i point to elements in array that are less than pivot\n",
        "  # indices i+1->j point to elements in array that are greater than pivot\n",
        "  # indices j+1->end-1 point to yet to be classified elements\n",
        "  # index end points to pivot (last element in array)\n",
        "  i = start - 1\n",
        "  for j in range(start, end):\n",
        "\n",
        "    if arr[j] <= pivot:\n",
        "      i +=1\n",
        "      swap(arr, i, j)\n",
        "\n",
        "  swap(arr, i+1, end)\n",
        "  return i+1\n",
        "\n",
        "def quick_sort_helper(arr, start, end):\n",
        "    if start < end:\n",
        "      pivot_final_pos = partition(arr, start, end)\n",
        "      quick_sort_helper(arr, start, pivot_final_pos - 1)\n",
        "      quick_sort_helper(arr, pivot_final_pos + 1, end)\n",
        "\n",
        "def quick_sort(arr):\n",
        "  quick_sort_helper(arr, 0, len(arr) - 1)\n"
      ]
    }
  ]
}