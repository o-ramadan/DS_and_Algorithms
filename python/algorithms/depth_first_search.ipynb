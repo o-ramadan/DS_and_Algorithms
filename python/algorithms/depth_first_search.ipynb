{
  "nbformat": 4,
  "nbformat_minor": 0,
  "metadata": {
    "colab": {
      "name": "depth_first_search.ipynb",
      "provenance": []
    },
    "kernelspec": {
      "name": "python3",
      "display_name": "Python 3"
    },
    "language_info": {
      "name": "python"
    }
  },
  "cells": [
    {
      "cell_type": "code",
      "execution_count": 2,
      "metadata": {
        "id": "TXdE2ipbvtr9"
      },
      "outputs": [],
      "source": [
        "def DFS_helper(G, v, visited):\n",
        "\n",
        "  visited.add(v)\n",
        "  print(v)\n",
        "  \n",
        "  for neighbor in G[v]:\n",
        "    if neighbor not in visited:\n",
        "      DFS_helper(G, neighbor, visited)\n",
        "\n",
        "def DFS(G, v):\n",
        "\n",
        "  visited = set()\n",
        "  DFS_helper(G, v, visited)\n"
      ]
    }
  ]
}