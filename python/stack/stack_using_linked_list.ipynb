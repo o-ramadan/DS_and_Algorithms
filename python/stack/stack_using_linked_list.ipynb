{
  "nbformat": 4,
  "nbformat_minor": 0,
  "metadata": {
    "colab": {
      "name": "stack_using_linked_list.ipynb",
      "provenance": []
    },
    "kernelspec": {
      "name": "python3",
      "display_name": "Python 3"
    },
    "language_info": {
      "name": "python"
    }
  },
  "cells": [
    {
      "cell_type": "code",
      "execution_count": null,
      "metadata": {
        "id": "BiBPExm5vaXX"
      },
      "outputs": [],
      "source": [
        "#Stack implementation using linked lists\n",
        "class node():\n",
        "  def __init__(self, data):\n",
        "    self.data = data\n",
        "    self.next = None\n",
        "\n",
        "class stack():\n",
        "  def __init__(self):\n",
        "    self.items = None\n",
        "\n",
        "  def push(self, item):\n",
        "    new_node = node(item)\n",
        "    new_node.next = self.items\n",
        "    self.items = new_node\n",
        "\n",
        "  def pop(self):\n",
        "    if self.items is not None:\n",
        "      popped_item = self.items.data\n",
        "      self.items = self.items.next\n",
        "      return popped_item\n",
        "    else:\n",
        "      raise IndexError(\"Stack is already empty\")\n",
        "\n",
        "  def top(self):\n",
        "    if self.items is not None:\n",
        "      return self.items.data\n",
        "    else:\n",
        "       raise IndexError(\"Stack is empty\")\n",
        "     "
      ]
    }
  ]
}