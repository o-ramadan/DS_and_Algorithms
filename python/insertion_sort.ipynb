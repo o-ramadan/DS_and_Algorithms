{
  "nbformat": 4,
  "nbformat_minor": 0,
  "metadata": {
    "colab": {
      "name": "insertion_sort.ipynb",
      "provenance": []
    },
    "kernelspec": {
      "name": "python3",
      "display_name": "Python 3"
    },
    "language_info": {
      "name": "python"
    }
  },
  "cells": [
    {
      "cell_type": "code",
      "execution_count": 6,
      "metadata": {
        "id": "_UhGf6qc53-_"
      },
      "outputs": [],
      "source": [
        "def insertion_sort(arr):\n",
        "\n",
        "  for i in range(1, len(arr)):\n",
        "\n",
        "    key = arr[i]\n",
        "\n",
        "    j = i - 1\n",
        "\n",
        "    #Insert arr[i] into the sorted list arr[0:j-1] at the correct place\n",
        "    while j >= 0 and arr[j] > key:\n",
        "      arr[j+1] = arr[j]\n",
        "      j -= 1\n",
        "\n",
        "    arr[j+1] = key\n",
        "\n"
      ]
    }
  ]
}